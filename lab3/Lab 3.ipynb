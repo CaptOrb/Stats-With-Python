{
 "cells": [
  {
   "cell_type": "code",
   "execution_count": 33,
   "metadata": {},
   "outputs": [],
   "source": [
    "import numpy as np\n",
    "import pandas as pd\n",
    "import matplotlib.pyplot as plt\n",
    "import scipy.stats as stats"
   ]
  },
  {
   "cell_type": "code",
   "execution_count": 37,
   "metadata": {},
   "outputs": [
    {
     "data": {
      "text/plain": [
       "15"
      ]
     },
     "execution_count": 37,
     "metadata": {},
     "output_type": "execute_result"
    }
   ],
   "source": [
    "#If the number of events occurring per minute is Poisson distributed with a rate of 2 events per minute,\n",
    "#and we want to simulate 15 individual minutes and observe how many events took place each minute we should use the \n",
    "#command stats.poisson.rvs(15,2)\n",
    "stats.poisson.rvs(15,2)"
   ]
  },
  {
   "cell_type": "code",
   "execution_count": 38,
   "metadata": {},
   "outputs": [
    {
     "name": "stdout",
     "output_type": "stream",
     "text": [
      "0.099\n"
     ]
    }
   ],
   "source": [
    "#If you toss a regular coin 46 times, what is the probability that you get heads on 25 of the 46 coin tosses?\n",
    "\n",
    "prob_binom = stats.binom.pmf(25, n = 46, p = 0.5)\n",
    "print(\"%.3f\" % prob_binom)"
   ]
  },
  {
   "cell_type": "code",
   "execution_count": 39,
   "metadata": {},
   "outputs": [
    {
     "name": "stdout",
     "output_type": "stream",
     "text": [
      "0.815\n"
     ]
    }
   ],
   "source": [
    "#If you toss a regular coin 150 times, what is the probability that you get heads on 80 or less of the 150 coin tosses?\n",
    "\n",
    "cum_binom = stats.binom.cdf(80, n = 150, p = 0.5)\n",
    "print(\"%.3f\" % cum_binom)"
   ]
  },
  {
   "cell_type": "code",
   "execution_count": 27,
   "metadata": {},
   "outputs": [
    {
     "name": "stdout",
     "output_type": "stream",
     "text": [
      "0.022\n"
     ]
    }
   ],
   "source": [
    "#If you toss a regular coin 154 times, what is the probability that you get heads on more than 89 of the 154 coin tosses?\n",
    "\n",
    "cum_binom = 1 - stats.binom.cdf(89, n = 154, p = 0.5)\n",
    "print(\"%.3f\" % cum_binom)"
   ]
  },
  {
   "cell_type": "code",
   "execution_count": 40,
   "metadata": {},
   "outputs": [
    {
     "name": "stdout",
     "output_type": "stream",
     "text": [
      "0.031\n"
     ]
    }
   ],
   "source": [
    "#Now suppose the coin is biased, such that the probability of getting heads is 0.25.\n",
    "#If you toss the coin 125 times, that is the probability that you observe heads more than 40 times? \n",
    "\n",
    "cum_binom = 1 - stats.binom.cdf(40, n = 125, p = 0.25)\n",
    "print(\"%.3f\" % cum_binom)"
   ]
  },
  {
   "cell_type": "code",
   "execution_count": 125,
   "metadata": {},
   "outputs": [
    {
     "name": "stdout",
     "output_type": "stream",
     "text": [
      "0.128\n"
     ]
    }
   ],
   "source": [
    "#Suppose we randomly select 6 cards without replacement from an ordinary deck of playing cards\n",
    "#What is the probability of getting exactly 3 diamonds? \n",
    "\n",
    "N = 52 # Population size\n",
    "s = 13 # Number of special objects\n",
    "n = 6 # Sample size\n",
    "x = 3 # Number of special items you need in your sample\n",
    "\n",
    "jackpot_prob = stats.hypergeom.pmf(x,N,s,n)\n",
    "print(\"%.3f\" % jackpot_prob)\n"
   ]
  },
  {
   "cell_type": "code",
   "execution_count": 41,
   "metadata": {},
   "outputs": [
    {
     "name": "stdout",
     "output_type": "stream",
     "text": [
      "0.150\n"
     ]
    }
   ],
   "source": [
    "#Suppose we randomly select 5 cards without replacement from an ordinary deck of playing cards (52 cards, half red and half black). \n",
    "#What is the probability of getting exactly 1 black card? (Rounded to 3 decimal places)\n",
    "\n",
    "N = 52 # Population size\n",
    "s = 26 # Number of special objects\n",
    "n = 5 # Sample size\n",
    "x = 1 # Number of special items you need in your sample\n",
    "jackpot_prob = stats.hypergeom.pmf(x,N,s,n)\n",
    "print(\"%.3f\" % jackpot_prob)"
   ]
  },
  {
   "cell_type": "code",
   "execution_count": 45,
   "metadata": {},
   "outputs": [
    {
     "name": "stdout",
     "output_type": "stream",
     "text": [
      "0.224\n"
     ]
    }
   ],
   "source": [
    "#Assume that the number of storms to hit Ireland in a given year follows a Poisson distribution. \n",
    "#If the average number of storms per year is 3, what is the probability that there will be 2 storms in a particular year?\n",
    "storms_prob = stats.poisson.pmf(2, 3)\n",
    "print(\"%.3f\" % storms_prob)"
   ]
  },
  {
   "cell_type": "code",
   "execution_count": 46,
   "metadata": {},
   "outputs": [
    {
     "name": "stdout",
     "output_type": "stream",
     "text": [
      "0.577\n"
     ]
    }
   ],
   "source": [
    "#Suppose a fast food restaurant can expect two customers every 3 minutes, on average.\n",
    "#What is the probability that more than 2 will enter the restaurant in a 3 minute period? (Rounded to 3 decimal places)\n",
    "\n",
    "#warn = check\n",
    "\n",
    "enter_restaurant = 1 - stats.poisson.cdf(2, 3)\n",
    "print(\"%.3f\" % enter_restaurant)"
   ]
  },
  {
   "cell_type": "code",
   "execution_count": 32,
   "metadata": {},
   "outputs": [
    {
     "name": "stdout",
     "output_type": "stream",
     "text": [
      "0.870\n"
     ]
    }
   ],
   "source": [
    "#Suppose the average number of lions seen on a 1-day safari is 5. If you go on a 2-day safari, what is the \n",
    "#probability of seeing more than 6 lions? (Rounded to 3 decimal places)\n",
    "\n",
    "prob_lions = 1 - stats.poisson.cdf(6, 10)\n",
    "print(\"%.3f\" % prob_lions)\n"
   ]
  }
 ],
 "metadata": {
  "kernelspec": {
   "display_name": "Python 3",
   "language": "python",
   "name": "python3"
  },
  "language_info": {
   "codemirror_mode": {
    "name": "ipython",
    "version": 3
   },
   "file_extension": ".py",
   "mimetype": "text/x-python",
   "name": "python",
   "nbconvert_exporter": "python",
   "pygments_lexer": "ipython3",
   "version": "3.7.4"
  }
 },
 "nbformat": 4,
 "nbformat_minor": 2
}
