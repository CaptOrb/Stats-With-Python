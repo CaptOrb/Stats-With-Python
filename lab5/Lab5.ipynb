{
 "cells": [
  {
   "cell_type": "code",
   "execution_count": 119,
   "metadata": {},
   "outputs": [],
   "source": [
    "import numpy as np\n",
    "import pandas as pd\n",
    "import matplotlib.pyplot as plt\n",
    "import scipy.stats as stats\n",
    "import statsmodels.formula.api as smf"
   ]
  },
  {
   "cell_type": "code",
   "execution_count": 120,
   "metadata": {},
   "outputs": [
    {
     "name": "stdout",
     "output_type": "stream",
     "text": [
      "-3.067596924570168\n"
     ]
    }
   ],
   "source": [
    "# Question 2\n",
    "xbar = 29.1\n",
    "mu = 31.9\n",
    "sigma = 5.4\n",
    "n = 35\n",
    "z = (xbar-mu)/(sigma/np.sqrt(n))\n",
    "print(z)"
   ]
  },
  {
   "cell_type": "code",
   "execution_count": 121,
   "metadata": {},
   "outputs": [
    {
     "name": "stdout",
     "output_type": "stream",
     "text": [
      "1.28\n",
      "False\n"
     ]
    }
   ],
   "source": [
    "# Question 3\n",
    "z = 1.28\n",
    "print(z)\n",
    "\n",
    "alpha = 0.05\n",
    "\n",
    "prob = stats.norm.cdf(z)\n",
    "\n",
    "print(prob<alpha)"
   ]
  },
  {
   "cell_type": "code",
   "execution_count": 46,
   "metadata": {},
   "outputs": [
    {
     "name": "stdout",
     "output_type": "stream",
     "text": [
      "2.379272314287196\n",
      "0.9817259588223158\n",
      "0.018274041177684164\n",
      "False\n",
      "False\n"
     ]
    }
   ],
   "source": [
    "# QS 4: To test the hypothesis that eating fish makes one smarter, a random sample of 12 people take a fish oil supplement \n",
    "#for one year and then are given an IQ test...\n",
    "X = [107, 96, 109, 117, 101, 114, 106, 111, 121, 97, 102, 92]\n",
    "xbar = np.mean(X)\n",
    "s = np.std(X,ddof=1)\n",
    "mu0 = 100\n",
    "n = len(X)\n",
    "t = (xbar-mu0)/(s/np.sqrt(n))\n",
    "print(t)\n",
    "\n",
    "prob1 = stats.t.cdf(t,n-1)\n",
    "print(prob1)\n",
    "prob2 = 1-stats.t.cdf(t,n-1)\n",
    "print(prob2)\n",
    "\n",
    "alpha = 0.01\n",
    "\n",
    "print(prob1<alpha)\n",
    "print(prob2<alpha)"
   ]
  },
  {
   "cell_type": "code",
   "execution_count": 122,
   "metadata": {},
   "outputs": [
    {
     "name": "stdout",
     "output_type": "stream",
     "text": [
      "Ttest_indResult(statistic=2.2920484527186096, pvalue=0.03288460058253379)\n",
      "True\n"
     ]
    }
   ],
   "source": [
    "# Question 5\n",
    "\n",
    "# Perform a two sample t-test to assess whether the drug affects weight loss. What do you conclude? (Use α=0.05 )\n",
    "drug = [2, 6, 10, 19, 15, 3, 8, 9, 0, 7, 5, 12]\n",
    "placebo = [5, 0, 4, 9, 1, 1, 2, 0, 6, 7]\n",
    "ttest2 = stats.ttest_ind(drug,placebo)\n",
    "\n",
    "print(ttest2)\n",
    "print(ttest2.pvalue < 0.05)\n"
   ]
  },
  {
   "cell_type": "code",
   "execution_count": 130,
   "metadata": {},
   "outputs": [
    {
     "name": "stdout",
     "output_type": "stream",
     "text": [
      "       Height     Weight\n",
      "0  164.610260  71.672513\n",
      "1  174.032874  84.532568\n",
      "2  175.952944  91.761174\n",
      "3  162.342934  76.132028\n",
      "4  165.616526  56.789175\n",
      "                            OLS Regression Results                            \n",
      "==============================================================================\n",
      "Dep. Variable:                 Weight   R-squared:                       0.849\n",
      "Model:                            OLS   Adj. R-squared:                  0.847\n",
      "Method:                 Least Squares   F-statistic:                     550.1\n",
      "Date:                Fri, 17 Apr 2020   Prob (F-statistic):           5.51e-42\n",
      "Time:                        17:20:45   Log-Likelihood:                -318.69\n",
      "No. Observations:                 100   AIC:                             641.4\n",
      "Df Residuals:                      98   BIC:                             646.6\n",
      "Df Model:                           1                                         \n",
      "Covariance Type:            nonrobust                                         \n",
      "==============================================================================\n",
      "                 coef    std err          t      P>|t|      [0.025      0.975]\n",
      "------------------------------------------------------------------------------\n",
      "Intercept   -149.2236      9.432    -15.821      0.000    -167.941    -130.507\n",
      "Height         1.3203      0.056     23.453      0.000       1.209       1.432\n",
      "==============================================================================\n",
      "Omnibus:                        2.207   Durbin-Watson:                   2.070\n",
      "Prob(Omnibus):                  0.332   Jarque-Bera (JB):                2.179\n",
      "Skew:                          -0.348   Prob(JB):                        0.336\n",
      "Kurtosis:                       2.806   Cond. No.                     2.67e+03\n",
      "==============================================================================\n",
      "\n",
      "Warnings:\n",
      "[1] Standard Errors assume that the covariance matrix of the errors is correctly specified.\n",
      "[2] The condition number is large, 2.67e+03. This might indicate that there are\n",
      "strong multicollinearity or other numerical problems.\n"
     ]
    },
    {
     "data": {
      "text/plain": [
       "Text(0, 0.5, 'Weight (kg)')"
      ]
     },
     "execution_count": 130,
     "metadata": {},
     "output_type": "execute_result"
    },
    {
     "data": {
      "image/png": "[encoded data removed]",
      "text/plain": [
       "<Figure size 432x288 with 1 Axes>"
      ]
     },
     "metadata": {
      "needs_background": "light"
     },
     "output_type": "display_data"
    }
   ],
   "source": [
    "#QS 6 For the height versus weight data considered in the lab sheet, what is the slope of the fitted regression line?\n",
    "#(Rounded to 2 decimal places)\n",
    "\n",
    "df = pd.read_csv('height-weight.csv')\n",
    "print(df.head())\n",
    "\n",
    "\n",
    "model = smf.ols(formula='Weight~Height',data=df).fit()\n",
    "print(model.summary())\n",
    "\n",
    "\n",
    "plt.scatter(df.Height,df.Weight)\n",
    "plt.xlabel('Height (cm)')\n",
    "plt.ylabel('Weight (kg)')"
   ]
  },
  {
   "cell_type": "code",
   "execution_count": 124,
   "metadata": {},
   "outputs": [
    {
     "data": {
      "text/plain": [
       "Text(0, 0.5, 'Residuals')"
      ]
     },
     "execution_count": 124,
     "metadata": {},
     "output_type": "execute_result"
    },
    {
     "data": {
      "image/png": "[encoded data removed]",
      "text/plain": [
       "<Figure size 432x288 with 1 Axes>"
      ]
     },
     "metadata": {
      "needs_background": "light"
     },
     "output_type": "display_data"
    },
    {
     "data": {
      "image/png": "[encoded data removed]",
      "text/plain": [
       "<Figure size 432x288 with 1 Axes>"
      ]
     },
     "metadata": {
      "needs_background": "light"
     },
     "output_type": "display_data"
    }
   ],
   "source": [
    "# QS 7\n",
    "\n",
    "# For the height versus weight data considered in the lab sheet, does the spread of the residuals depend on height? \n",
    "residuals = model.resid\n",
    "plt.figure()\n",
    "plt.hist(residuals)\n",
    "plt.axis([-20,20,0,20])\n",
    "plt.xlabel('Residuals')\n",
    "plt.ylabel('Frequency')\n",
    "plt.figure()\n",
    "plt.scatter(df.Height,residuals)\n",
    "plt.axis([142,195,-20,20])\n",
    "plt.xlabel('Height')\n",
    "plt.ylabel('Residuals')"
   ]
  },
  {
   "cell_type": "code",
   "execution_count": 131,
   "metadata": {},
   "outputs": [
    {
     "name": "stdout",
     "output_type": "stream",
     "text": [
      "83.15\n"
     ]
    }
   ],
   "source": [
    "# Question 8 \n",
    "\n",
    "# For the height versus weight data considered in the lab sheet, use the fitted regression line to predict the weight \n",
    "#of someone who is 176cm. (Rounded to 2 decimal places)\n",
    "\n",
    "grades  = pd.DataFrame({'Weight':df.Weight,'Height':df.Height})\n",
    "\n",
    "\n",
    "pred62 = model.predict({'Height':176})\n",
    "print(\"%.2f\" % pred62)"
   ]
  },
  {
   "cell_type": "code",
   "execution_count": 132,
   "metadata": {},
   "outputs": [
    {
     "name": "stdout",
     "output_type": "stream",
     "text": [
      "   MPG   Price\n",
      "0   19   88900\n",
      "1   19   88900\n",
      "2   19  136900\n",
      "3   19   98700\n",
      "4   19   98800\n",
      "                            OLS Regression Results                            \n",
      "==============================================================================\n",
      "Dep. Variable:                  Price   R-squared:                       0.417\n",
      "Model:                            OLS   Adj. R-squared:                  0.415\n",
      "Method:                 Least Squares   F-statistic:                     227.5\n",
      "Date:                Fri, 17 Apr 2020   Prob (F-statistic):           3.79e-39\n",
      "Time:                        17:21:21   Log-Likelihood:                -3628.7\n",
      "No. Observations:                 320   AIC:                             7261.\n",
      "Df Residuals:                     318   BIC:                             7269.\n",
      "Df Model:                           1                                         \n",
      "Covariance Type:            nonrobust                                         \n",
      "==============================================================================\n",
      "                 coef    std err          t      P>|t|      [0.025      0.975]\n",
      "------------------------------------------------------------------------------\n",
      "Intercept   1.608e+05   6549.632     24.549      0.000    1.48e+05    1.74e+05\n",
      "MPG        -3412.6072    226.272    -15.082      0.000   -3857.787   -2967.427\n",
      "==============================================================================\n",
      "Omnibus:                       14.802   Durbin-Watson:                   0.573\n",
      "Prob(Omnibus):                  0.001   Jarque-Bera (JB):               15.572\n",
      "Skew:                           0.529   Prob(JB):                     0.000415\n",
      "Kurtosis:                       3.225   Cond. No.                         166.\n",
      "==============================================================================\n",
      "\n",
      "Warnings:\n",
      "[1] Standard Errors assume that the covariance matrix of the errors is correctly specified.\n"
     ]
    },
    {
     "data": {
      "text/plain": [
       "Text(0, 0.5, 'MPG')"
      ]
     },
     "execution_count": 132,
     "metadata": {},
     "output_type": "execute_result"
    },
    {
     "data": {
      "image/png": "[encoded data removed]",
      "text/plain": [
       "<Figure size 432x288 with 1 Axes>"
      ]
     },
     "metadata": {
      "needs_background": "light"
     },
     "output_type": "display_data"
    }
   ],
   "source": [
    "# Question 12: For the cars dataset, what is the coefficient of determination for the linear regression model? \n",
    "#(Rounded to 3 decimal places)\n",
    "\n",
    "df = pd.read_csv('cars.csv')\n",
    "print(df.head())\n",
    "\n",
    "\n",
    "model = smf.ols(formula='Price~MPG',data=df).fit()\n",
    "print(model.summary())\n",
    "\n",
    "\n",
    "plt.scatter(df.Price,df.MPG)\n",
    "plt.xlabel('Price')\n",
    "plt.ylabel('MPG')"
   ]
  },
  {
   "cell_type": "code",
   "execution_count": 133,
   "metadata": {},
   "outputs": [
    {
     "name": "stdout",
     "output_type": "stream",
     "text": [
      "   MPG   Price\n",
      "0   19   88900\n",
      "1   19   88900\n",
      "2   19  136900\n",
      "3   19   98700\n",
      "4   19   98800\n"
     ]
    },
    {
     "data": {
      "text/plain": [
       "Text(0, 0.5, 'Price')"
      ]
     },
     "execution_count": 133,
     "metadata": {},
     "output_type": "execute_result"
    },
    {
     "data": {
      "image/png": "[encoded data removed]",
      "text/plain": [
       "<Figure size 432x288 with 1 Axes>"
      ]
     },
     "metadata": {
      "needs_background": "light"
     },
     "output_type": "display_data"
    }
   ],
   "source": [
    "# Question 9: For the cars dataset, is the relationship approximately linear?\n",
    "df = pd.read_csv('cars.csv')\n",
    "print(df.head())\n",
    "\n",
    "xrange = np.linspace(15,50,100)\n",
    "plt.plot(xrange,model.params.Intercept+model.params.MPG*xrange)\n",
    "plt.scatter(df.MPG,df.Price)\n",
    "plt.xlabel('MPG (cm)')\n",
    "plt.ylabel('Price')"
   ]
  },
  {
   "cell_type": "code",
   "execution_count": 134,
   "metadata": {},
   "outputs": [
    {
     "name": "stdout",
     "output_type": "stream",
     "text": [
      "1.0822986951097846e-11\n"
     ]
    },
    {
     "data": {
      "image/png": "[encoded data removed]",
      "text/plain": [
       "<Figure size 432x288 with 1 Axes>"
      ]
     },
     "metadata": {
      "needs_background": "light"
     },
     "output_type": "display_data"
    },
    {
     "data": {
      "image/png": "[encoded data removed]",
      "text/plain": [
       "<Figure size 432x288 with 1 Axes>"
      ]
     },
     "metadata": {
      "needs_background": "light"
     },
     "output_type": "display_data"
    }
   ],
   "source": [
    "# QS 10\n",
    "\n",
    "# For the cars dataset, do the residuals have a mean of roughly zero?\n",
    "\n",
    "residuals = model.resid\n",
    "plt.figure()\n",
    "plt.hist(residuals)\n",
    "plt.xlabel('Residuals')\n",
    "plt.ylabel('Frequency')\n",
    "plt.figure()\n",
    "plt.scatter(df.MPG,df.Price)\n",
    "plt.xlabel('MPG')\n",
    "plt.ylabel('Residuals')\n",
    "\n",
    "print(np.mean(model.resid))"
   ]
  },
  {
   "cell_type": "code",
   "execution_count": 139,
   "metadata": {},
   "outputs": [
    {
     "name": "stdout",
     "output_type": "stream",
     "text": [
      "0    119835.276673\n",
      "dtype: float64\n"
     ]
    }
   ],
   "source": [
    "# QS 11 For the cars dataset, can we use the fitted regression line to predict the recommended retail price of a car whose \n",
    "# miles per gallon is 12?\n",
    "data  = pd.DataFrame({'Price':df.Price,'MPG':df.MPG})\n",
    "\n",
    "pred62 = model.predict({'MPG':12})\n",
    "print(pred62)\n",
    "\n",
    "# no 12 is outside the range of data (19-45) and we can only make a prediction if the value is within the range of \n",
    "#data"
   ]
  },
  {
   "cell_type": "code",
   "execution_count": null,
   "metadata": {},
   "outputs": [],
   "source": []
  }
 ],
 "metadata": {
  "kernelspec": {
   "display_name": "Python 3",
   "language": "python",
   "name": "python3"
  },
  "language_info": {
   "codemirror_mode": {
    "name": "ipython",
    "version": 3
   },
   "file_extension": ".py",
   "mimetype": "text/x-python",
   "name": "python",
   "nbconvert_exporter": "python",
   "pygments_lexer": "ipython3",
   "version": "3.7.4"
  }
 },
 "nbformat": 4,
 "nbformat_minor": 2
}
