{
 "cells": [
  {
   "cell_type": "code",
   "execution_count": 2,
   "metadata": {},
   "outputs": [],
   "source": [
    "import numpy as np\n",
    "import pandas as pd\n",
    "import matplotlib.pyplot as plt\n",
    "import scipy.stats as stats"
   ]
  },
  {
   "cell_type": "code",
   "execution_count": 2,
   "metadata": {},
   "outputs": [
    {
     "data": {
      "text/plain": [
       "array([-15.18183679, -16.18468273, -13.03060364, -11.44028534,\n",
       "        -7.6497605 , -15.4949225 , -12.12933027, -14.67834346,\n",
       "        -8.81283996, -11.71421612,  -9.24758759, -14.09179441,\n",
       "       -15.17276579, -11.80294578, -10.21891649, -14.08364342,\n",
       "       -14.0990394 , -13.38368978,  -8.40302538, -11.35107431,\n",
       "       -11.54513745, -14.67899783, -10.77673114, -10.5592378 ,\n",
       "       -10.33659042, -13.3199002 , -13.91972168, -13.51822556,\n",
       "        -8.13205999, -14.07458055, -12.67825786, -10.98513238,\n",
       "       -12.04992688, -13.06564408, -12.37402354, -14.67096624,\n",
       "       -16.06677401,  -9.85685796, -10.28239553,  -7.01830636,\n",
       "       -11.2991677 , -16.05677505, -11.14444046, -16.3538434 ,\n",
       "       -12.95896732,  -9.62812768, -11.92476288, -13.61619689,\n",
       "        -7.83873009,  -8.90638086, -15.14817654, -10.10716364,\n",
       "       -13.27176004, -18.13112146, -13.20649672, -10.16811557,\n",
       "       -13.03973783, -17.73129471, -10.25548432, -10.511736  ,\n",
       "       -11.9905628 , -16.27927284,  -9.69955652, -14.82335521,\n",
       "       -11.90537926, -10.50270032,  -7.13253926, -12.34272174,\n",
       "       -11.49394369, -11.45777071, -16.78519513,  -9.01792567,\n",
       "        -8.84871862, -13.19476851, -10.75039805,  -8.99194324,\n",
       "        -1.06122336, -10.28553605, -14.60614766, -12.88636854,\n",
       "       -11.23683583,  -7.92997493, -16.63854066, -15.80550224,\n",
       "       -18.71659356, -13.72190293,  -9.44571209,  -7.28085861,\n",
       "        -9.94922948, -13.24810613, -12.40232007, -12.43042546,\n",
       "        -7.94014921, -11.30253974, -14.05588896, -14.92639597,\n",
       "       -16.53030219, -11.26687765, -12.38128472,  -8.40067609])"
      ]
     },
     "execution_count": 2,
     "metadata": {},
     "output_type": "execute_result"
    }
   ],
   "source": [
    "#Q1\n",
    "stats.norm.rvs(loc=-12,scale=3,size=100)"
   ]
  },
  {
   "cell_type": "code",
   "execution_count": 16,
   "metadata": {},
   "outputs": [
    {
     "data": {
      "text/plain": [
       "(array([  2.,  27.,  86., 156., 273., 217., 152.,  63.,  18.,   6.]),\n",
       " array([ 8.42841948,  8.74451461,  9.06060974,  9.37670487,  9.6928    ,\n",
       "        10.00889514, 10.32499027, 10.6410854 , 10.95718053, 11.27327567,\n",
       "        11.5893708 ]),\n",
       " <a list of 10 Patch objects>)"
      ]
     },
     "execution_count": 16,
     "metadata": {},
     "output_type": "execute_result"
    },
    {
     "data": {
      "image/png": "[encoded data removed]",
      "text/plain": [
       "<Figure size 432x288 with 1 Axes>"
      ]
     },
     "metadata": {
      "needs_background": "light"
     },
     "output_type": "display_data"
    }
   ],
   "source": [
    "#Consider the histogram you created in Exercise 1. \n",
    "#How does the shape of the histogram change if you increase the mean?\n",
    "\n",
    "sample = stats.norm.rvs(loc=10,scale=0.5,size=1000)\n",
    "plt.hist(sample)"
   ]
  },
  {
   "cell_type": "code",
   "execution_count": 15,
   "metadata": {},
   "outputs": [
    {
     "data": {
      "text/plain": [
       "(array([  5.,  25.,  82., 144., 232., 236., 148.,  94.,  30.,   4.]),\n",
       " array([18.42799743, 18.74007522, 19.05215301, 19.3642308 , 19.67630859,\n",
       "        19.98838638, 20.30046417, 20.61254196, 20.92461975, 21.23669754,\n",
       "        21.54877533]),\n",
       " <a list of 10 Patch objects>)"
      ]
     },
     "execution_count": 15,
     "metadata": {},
     "output_type": "execute_result"
    },
    {
     "data": {
      "image/png": "[encoded data removed]",
      "text/plain": [
       "<Figure size 432x288 with 1 Axes>"
      ]
     },
     "metadata": {
      "needs_background": "light"
     },
     "output_type": "display_data"
    }
   ],
   "source": [
    "sample = stats.norm.rvs(loc=20,scale=0.5,size=1000)\n",
    "\n",
    "plt.hist(sample)"
   ]
  },
  {
   "cell_type": "code",
   "execution_count": 23,
   "metadata": {},
   "outputs": [
    {
     "name": "stdout",
     "output_type": "stream",
     "text": [
      "0.8988\n"
     ]
    }
   ],
   "source": [
    "#If X is a standard normal random variable N(0,1), what is P(X<1.275)? (Rounded to 4 decimal places)\n",
    "prob1 = stats.norm.cdf(1.275,loc=0,scale=1)\n",
    "print(\"%.4f\" % prob1)"
   ]
  },
  {
   "cell_type": "code",
   "execution_count": 24,
   "metadata": {},
   "outputs": [
    {
     "name": "stdout",
     "output_type": "stream",
     "text": [
      "0.0290\n"
     ]
    }
   ],
   "source": [
    "#If X is a standard normal random variable N(0,1), what is P(X>1.895)? (Rounded to 4 decimal places)\n",
    "\n",
    "prob1 = 1-stats.norm.cdf(1.895,loc=0,scale=1)\n",
    "print(\"%.4f\" % prob1)"
   ]
  },
  {
   "cell_type": "code",
   "execution_count": 27,
   "metadata": {},
   "outputs": [
    {
     "name": "stdout",
     "output_type": "stream",
     "text": [
      "0.8588\n"
     ]
    }
   ],
   "source": [
    "#If X is a normal random variable with mean 10 and standard deviation 4, what is P(X>5.7)? \n",
    "#(Rounded to 4 decimal places)\n",
    "\n",
    "prob3 = 1- stats.norm.cdf(5.7,loc=10,scale=4)\n",
    "print(\"%.4f\" %prob3)"
   ]
  },
  {
   "cell_type": "code",
   "execution_count": 28,
   "metadata": {},
   "outputs": [
    {
     "name": "stdout",
     "output_type": "stream",
     "text": [
      "0.0668\n"
     ]
    }
   ],
   "source": [
    "#The run time of a particular piece of Python code is normally distributed with mean 10 second and standard \n",
    "#deviation 2 seconds. What is the probability that the code will take less than 7 seconds to run? \n",
    "#(Rounded to 4 decimal places.)\n",
    "\n",
    "prob3 = stats.norm.cdf(7,loc=10,scale=2)\n",
    "print(\"%.4f\" %prob3)"
   ]
  },
  {
   "cell_type": "code",
   "execution_count": 41,
   "metadata": {},
   "outputs": [
    {
     "name": "stdout",
     "output_type": "stream",
     "text": [
      "0.5\n"
     ]
    }
   ],
   "source": [
    "#The time taken to complete a test is normally distributed with mean 40 mins and standard deviation 5 minutes. \n",
    "#What percentage of students complete the test in 30-40 minutes? (Rounded to 1 decimal place)\n",
    "\n",
    "prob3 = stats.norm.cdf(40,loc=40,scale=5) - (stats.norm.cdf(30,loc=40,scale=5))\n",
    "print(\"%.1f\" %prob3)"
   ]
  },
  {
   "cell_type": "code",
   "execution_count": 20,
   "metadata": {},
   "outputs": [
    {
     "name": "stdout",
     "output_type": "stream",
     "text": [
      "0.8466\n"
     ]
    }
   ],
   "source": [
    "#The amount of time a doctor spends with each patient is exponentially distributed with a mean of 8 minutes.\n",
    "# What is the probability of them spending less than 15 minutes with their next patient? \n",
    "#(Rounded to 4 decimal places.)\n",
    "\n",
    "prob_exp1 = stats.expon.cdf(15,scale=8)\n",
    "print(\"%.4f\" %prob_exp1)"
   ]
  },
  {
   "cell_type": "code",
   "execution_count": 62,
   "metadata": {},
   "outputs": [
    {
     "name": "stdout",
     "output_type": "stream",
     "text": [
      "0.1859\n"
     ]
    }
   ],
   "source": [
    "#The amount of time students spent studying for an exam is exponentially distributed with a mean of 20 hours.\n",
    "#What proportion of students spent between 15 and 25 hours studying for the exam?\n",
    "\n",
    "prob_exp1 = stats.expon.cdf(25, scale =20) - stats.expon.cdf(15,scale=20)\n",
    "print(\"%.4f\" %prob_exp1)"
   ]
  },
  {
   "cell_type": "code",
   "execution_count": 63,
   "metadata": {},
   "outputs": [
    {
     "name": "stdout",
     "output_type": "stream",
     "text": [
      "[1.34, 1.4]\n"
     ]
    }
   ],
   "source": [
    "#A sample of petrol prices was taken at 50 petrol stations across the Ireland. \n",
    "#The average price per litre was found to be €1.37, with a standard deviation of €0.11. \n",
    "#What is the 95% confidence interval estimate for the mean price of petrol in Ireland?\n",
    "\n",
    "xbar = 1.37\n",
    "s = 0.11\n",
    "n = 50\n",
    "confidence = 0.95\n",
    "z = stats.norm.ppf((1 + confidence)/2)\n",
    "lower = xbar - z*s/np.sqrt(n)\n",
    "upper = xbar + z*s/np.sqrt(n)\n",
    "print([round(lower,3),round(upper,3)])"
   ]
  },
  {
   "cell_type": "code",
   "execution_count": 67,
   "metadata": {},
   "outputs": [
    {
     "name": "stdout",
     "output_type": "stream",
     "text": [
      "Confidence interval for the true population mean:,! [-1.21, 1.15]\n"
     ]
    }
   ],
   "source": [
    "#What is the 95% confidence interval for the 4th column ('var4') in the dataset 'variables.csv'?\n",
    "data = pd.read_csv('variables.csv')\n",
    "\n",
    "xbar = np.mean(data.iloc[:,3])\n",
    "s = np.std(data.iloc[:,3])\n",
    "n = len(data)\n",
    "confidence = 0.95\n",
    "z = stats.norm.ppf((1 + confidence)/2)\n",
    "lower = xbar - z*s/np.sqrt(n)\n",
    "upper = xbar + z*s/np.sqrt(n)\n",
    "print('Confidence interval for the true population mean:,!',[round(lower,2),round(upper,2)])"
   ]
  },
  {
   "cell_type": "code",
   "execution_count": null,
   "metadata": {},
   "outputs": [],
   "source": []
  }
 ],
 "metadata": {
  "kernelspec": {
   "display_name": "Python 3",
   "language": "python",
   "name": "python3"
  },
  "language_info": {
   "codemirror_mode": {
    "name": "ipython",
    "version": 3
   },
   "file_extension": ".py",
   "mimetype": "text/x-python",
   "name": "python",
   "nbconvert_exporter": "python",
   "pygments_lexer": "ipython3",
   "version": "3.7.4"
  }
 },
 "nbformat": 4,
 "nbformat_minor": 2
}
