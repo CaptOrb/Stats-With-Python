{
 "cells": [
  {
   "cell_type": "code",
   "execution_count": 203,
   "metadata": {},
   "outputs": [],
   "source": [
    "import numpy as np\n",
    "import pandas as pd\n",
    "import matplotlib.pyplot as plt"
   ]
  },
  {
   "cell_type": "code",
   "execution_count": 204,
   "metadata": {},
   "outputs": [
    {
     "data": {
      "text/plain": [
       "array([0, 0, 0, 1, 1, 1, 2, 2, 2, 3, 3, 3])"
      ]
     },
     "execution_count": 204,
     "metadata": {},
     "output_type": "execute_result"
    }
   ],
   "source": [
    "#The command 'np.repeat([0,1,2,3], 3)' repeats [0,1,2,3] 3 times, returning the array [0,1,2,3,0,1,2,3,0,1,2,3]\n",
    "np.repeat([0,1,2,3], 3)"
   ]
  },
  {
   "cell_type": "code",
   "execution_count": 293,
   "metadata": {},
   "outputs": [
    {
     "name": "stdout",
     "output_type": "stream",
     "text": [
      "7     6\n",
      "8     5\n",
      "6     5\n",
      "9     4\n",
      "5     4\n",
      "10    3\n",
      "4     3\n",
      "11    2\n",
      "3     2\n",
      "12    1\n",
      "2     1\n",
      "Name: Total, dtype: int64\n"
     ]
    }
   ],
   "source": [
    "#When rolling two dice, what is the probability of the total being 3?\n",
    "red = np.repeat(np.arange(1,7), 6)\n",
    "blue = np.tile(np.arange(1,7), 6)\n",
    "dice_roll = pd.DataFrame({'Red':red,'Blue':blue,'Total':red+blue})\n",
    "\n",
    "print(dice_roll.Total.value_counts())\n"
   ]
  },
  {
   "cell_type": "code",
   "execution_count": 294,
   "metadata": {
    "scrolled": true
   },
   "outputs": [
    {
     "name": "stdout",
     "output_type": "stream",
     "text": [
      "[ 7  7  8  4  6  6  3  9  5 11  4  7  7  6  9  7  9  9  4  9  7  8  9  5\n",
      "  5  8  7  2  3 10  3  8  3 11  5  7  7  8 11  4  5  3  5  8  7  4  8  5\n",
      "  9  4  6 12  7  7  5  8  8  5  7  6  5  7  6  6  8  2  7  8  3  6  5 10\n",
      "  9  9  5  9 10  5 10  9  9  7 11 11  5  4  8  5 11 10  8  9  8  9  7  7\n",
      "  7 11  6 10 10  9  3  4  6  7  7  8 10 10  7 10  9  6  9  8 10  4  5  5\n",
      "  8  3  5  9 11  4  3  9  5  6  4 11  3  6 11  6  8  3  7  8  5  7  9  7\n",
      " 10  5  8  3  4  8 10  8  6 10  8  6  4 11  6  6  6  8  2  3  4  5  5  6\n",
      "  8  4  7  7  8  4 11  6  3  9  5  6  4  6 10  8  7  8  7 10  8  9  5 10\n",
      "  9  9  7  3  6 12  6  8  5 10  4 11  9  7 11  8  3  7  4  9 10  7 10  8\n",
      "  6  6  7 10 10  7  6  3  5  6  9 11  3  5  7  8  8  7  9 10  7  5  4  8\n",
      "  8  9  5  3  6  3  5  6  5  6  7  4  9 10  8  7  9  8 12  4  8  4  4  3\n",
      "  6 10  3  8  4  8  6  8  5  6 10 10  6  8  9  8  5  5 10  9  9  7  6 11\n",
      "  9  3  9  4  7  7  5 10  8  9  6  8  6 10  4 11  9  8  9  5  9  3  5 10\n",
      "  7  6  6  5  4  4  5  8  5  8  8  6  6 12  6  4  5  9  6  9  8  5  7  3\n",
      "  6  6  4  9  6  7  5  6  7  4  9 10 10  7  4  7  8  6  3  6  7 11  3  8\n",
      "  8  4  7  4 10 11  2 12  6 10 12 10  8 10  5 10  7  5  6  4  6  7  4  2\n",
      " 12  5  6 10 10  2  5  4  7  5  5  6  6 10  7  5 10  8 11  8  7  8  6  4\n",
      " 11  5 12 11  7  7 10  9  7  6  5  5  9  4 11  4  7 10  9 10  5  6 12  5\n",
      " 10  4  7 10  6  7  5  7  2  9  3  3  7  5  9  9 10  6  5 11  9  8  5  6\n",
      "  5  9 11  5  5 10  8  5  6  2  6  8  5  7 11  3  9  7  8  5  5  3  4  8\n",
      "  9  8  9 11  7  5  7  5 12  7 11  6  9  5  4  7  7  3  8  8  7  7  8 10\n",
      "  6 11  9  8  7 11 11  6  7  6  8  2 11  4  7  3  7  5  5 11  6  5  7  5\n",
      "  7  3 11 10 10  7  6 11  7  8  4  8 12  8  7  7  7  6  7 10  7  7  5  7\n",
      "  3  9 11 10 11  7  6  8  8  9  6  6  4  7  4  7 11  9  2  3  3  8  9  6\n",
      "  5  4  5  2  7  8  9  7  7  5  9  7  5  4  4 11  4  3  4  6  9  7  8 10\n",
      "  9  6  7  9  5 11  9  5  9  9  6  7  4  9  4  6  5  7  5  9 11  3 11 10\n",
      "  4  5  5  4  6  5  5  7  5  9 12 10  9  6  3 10  4  5 10  6  3 10  9  9\n",
      "  7  6  7  9 11  8 10  6  8  5  5 11  8  8  2  5  7  8  5  7  3  5  6  5\n",
      " 12  5  7  7 10 10  7 10  5  7  6  7 11  9  6  9  9  6 11  4 12  8 10  6\n",
      " 10 11  6  4 10  5  7 10  7 10  7  8  9  7  8  6  4 12  3  8  4  7  6  3\n",
      "  3  8  5  5  8  5  8  5  9  7  4  4  6  8  3 10  7  6  4  9 10  6  5  6\n",
      "  5  4  6  4  7  7  8  7  6  7  8  6  8  8  4  3 11  7  9  4  5  8  5  7\n",
      "  8  9  3  7 12 10 11  4  4  7  7  3  3  7  7  9 10  6  6  4  3  6  3 11\n",
      "  4  5  9  4  4  5  7  3 12  3  3  8  4  7  7 10  7  3 10  4 10  5  7  9\n",
      "  8  5 10  5  6  3  8  7  5  8  6  5  4  6  6 11  7  8  5  6 12  3  6  7\n",
      " 10  6  3  6  2 10  8  6  8  7  8 10  5  7  8  5  8  7  9 10  6  9  6 11\n",
      " 10  8  7  4  8 10  5  5  9  8  5  6  7  4  9  8 10  5  4 12  8  8  9  7\n",
      " 10  6 12  8  8  8  7  6  6  8  9  5 10  6  3  4  8  8  6  5  9 12  9 10\n",
      " 11  7 10  3  8  7  7  5  3 10  4  6  4  8 10  5  6  4  5  2  7  8  4  7\n",
      "  5  4  9  5  9 11  9  8  6  7  3  7  8  5  5 11  4 10  4  6  8  7  8  6\n",
      "  6  8  4  9  9  5  7 10 12  7  6 10 10  5  6  3  5 11  4  6  7 10  8  9\n",
      "  6  9  4  8  7 10  7  6  5 12  7  9  7  6  5  6]\n"
     ]
    }
   ],
   "source": [
    "#Simulate rolling the dice 1000 times, and look at the distribution of dice totals. \n",
    "#Simulate 1000 rolls again, and look at the distribution. What do you observe? (Do not set a random seed)\n",
    "\n",
    "rolls = (np.random.choice(dice_roll.Total, size=1000))\n",
    "\n",
    "print(rolls)"
   ]
  },
  {
   "cell_type": "code",
   "execution_count": 295,
   "metadata": {},
   "outputs": [
    {
     "name": "stdout",
     "output_type": "stream",
     "text": [
      "[ 8  7 11 12  7  5  5  7 10  8  7  5  5  3  8 10  5  7  6  4  7  4  7  8\n",
      " 10  5  4 11  7  4  4  7  7  7 12  9 10  7 12  9 10  7  5  8  7  5  7  3\n",
      "  8 10  2  5 12  4  8  5 10  8  6  4  5  8  3  7  5  6  9  7  8 10  4 10\n",
      "  7  8  7  7 10  5  8  5  7  8  7  7 10  9  9 10  6  8 10  5  5  4  9  7\n",
      "  8  6  8  6  7  8  8  9  6  6  4  8  5 10  8  7  2 11 10  6  5  7  6  7\n",
      "  2  7  9  7  6  6  5  7  8  9 10 10  2  7  6  7  6  8 10  7  7 10  5  8\n",
      " 10  5  7 10  8  3  7  3  9  6  9 11  7  4  4  8  7  8  9 11  7  6  7  3\n",
      "  3  8  8  7  6  9  8  2  9 10 12  5  9  7 11  7  7  6  9  6  6  4  7  3\n",
      "  6  7  8  5  8  3 11  6 10  6  8  8  6  4  6  6  9  4  5  8  4  9  4  9\n",
      "  6  8 10  6  4  6  3  7 10  5 10  6  2 10  7  8  5 12  5  5  7  4 10  4\n",
      "  4  7  7  7  7  7  8  7  7  7 11  8  4  4  7  9  6  9  9  2  9 12 11  5\n",
      " 12  9  8  8 11  7  6  5 10  5  3  8  8  5  4  8  8  5  7  7  9  6  6  7\n",
      "  4  8  8  7  2  9  2  3 12  3  9  9  6 11  8  6  8  7  9  8  4  7  7  4\n",
      "  9  8  6  5  3 12  7  5  3  5  8 10  7  6  7  6 10  6  6  6  2 10  9  6\n",
      "  2  5  9  3  7 10  8  8  8  9  7  9  6  9  7  9  6  6  6 11  9 12  4  7\n",
      " 10  7  2  7  8  8  6  5  5  4  9  4  6  8 10 10  6  9  4  5  7  7  8  8\n",
      " 11 10 11  8  5  7  6  9  5  4  5  4  6  8  7  4  5  7  3  7 11  3  8  5\n",
      "  7  4  9  7  2 11  7 10 10  4  8  6  7  8  3  9  8  3  4 10  7  6  4  7\n",
      "  9  8  4 11  8  6  4  8  9  5  3  7  5 10 10  8  6  8  5  6  4  5  8  8\n",
      "  7 10  7  3  7  3  8  5  5  5  8  9  6  6  7  5  8  8  8  5  5  8  8  6\n",
      "  7  5  4  7  7 10 11  8 11 11 10 11  5  8  5  4 11  5  8 10  4 10  4  6\n",
      " 12  8  9  8  8  4  6  7  6  7  7  6  5  6  8  9  7 12  7  8  7  8  5  5\n",
      "  4  5 10  9  3  5  4  5  9  9 10  9  9  7  5  7  9  7  7  8  5  4  4  6\n",
      " 11  4  3  3  4  8  8  7  8  8 12  8 12 10  9  3  6  5  7  9 11  8  8 12\n",
      " 10  9  8  5  6 11  9  9  3  7  6  3  6  8  9  5  9  6  6 11  7  7  9 12\n",
      "  5  6  7 10 12  8  5  3  9  6 11 11 10  4  7 12  8  8  7  7  6  8  6 12\n",
      "  7  8  5  6 10  6  8  4 10  5 12  8  3  5  7  7 12  7  9  7  7  4  5  8\n",
      "  3  6 11  8  7  7  8  7  8  8  9  8 11  6  9  6  7  9  5  8  5  7  6  4\n",
      "  8  8  5  8  7  4  6 10 10 11  9  6  4  4  4  5 11 10  8  3  2  9 11  8\n",
      "  5 12 10  5  5  7  2  7  2  7  3  7  3  6 10  3  7  8  4  8  8  8  6  9\n",
      "  4  3 10 11 11  7 10  6 10 10  7  9  4 10  8  5  5  4  4  9  6  8  8  6\n",
      "  6  2  6  5  7 10  7  5  5  7  2 12 10  4  9  4  8  6 10 10  7  6  5  9\n",
      "  6  6  8  7  7 11  3  8  2  7  2  6 10 11  7  9  8  6  5  4  4  4  4  7\n",
      "  7  7  8 11 11  3  9  7  7 12  9  9  7  8  6  4  5  9  5  7  5  8  5  5\n",
      "  4  5 11  7  5 10  9  7  8  7  7  4  8  7  6  3  4  7  7  8  8  8  2 12\n",
      "  3  6  5  8  9  8  7  6  8 12  8 11  2  9  6 10  9  7  9  8  7  6  8  5\n",
      " 11  6  8  5  8  5  5  3  6  3  7 11 11 10 10  6  6  2  7  7  3  4  6  6\n",
      "  9  3 11  8  3  5  8  9  4  8  9  6  8 12 10  4  7  2  3 10  6  5 12  9\n",
      "  8  7  7  8  6  6  3  7  6  7  6 11  3  7 10  9  8  8  5  8  5  7  8  9\n",
      "  9  5  5  5 11  6  5  5  7  8  5  3 11  3  3  9  9  5  7  4  7  7  9  5\n",
      "  7 12  8 10  7 10  5  8  7  8  4  6  2 11  2  6  9  8  6  3  6  4  4 10\n",
      "  7  8  7  3  9  5  5  9 10  6 11  8  2  7 10  7]\n"
     ]
    }
   ],
   "source": [
    "rolls = (np.random.choice(dice_roll.Total, size=1000))\n",
    "\n",
    "\n",
    "print(rolls)"
   ]
  },
  {
   "cell_type": "code",
   "execution_count": 306,
   "metadata": {},
   "outputs": [
    {
     "data": {
      "text/plain": [
       "(array([ 329.,    0.,    0.,  468.,    0.,    0.,  796.,    0.,    0.,\n",
       "        1091.,    0.,    0., 1024.,    0.,    0., 1715.,    0.,    0.,\n",
       "        1750.,    0.,    0., 1137.,    0.,    0.,  855.,    0.,    0.,\n",
       "         480.,    0.,  355.]),\n",
       " array([ 2.        ,  2.33333333,  2.66666667,  3.        ,  3.33333333,\n",
       "         3.66666667,  4.        ,  4.33333333,  4.66666667,  5.        ,\n",
       "         5.33333333,  5.66666667,  6.        ,  6.33333333,  6.66666667,\n",
       "         7.        ,  7.33333333,  7.66666667,  8.        ,  8.33333333,\n",
       "         8.66666667,  9.        ,  9.33333333,  9.66666667, 10.        ,\n",
       "        10.33333333, 10.66666667, 11.        , 11.33333333, 11.66666667,\n",
       "        12.        ]),\n",
       " <a list of 30 Patch objects>)"
      ]
     },
     "execution_count": 306,
     "metadata": {},
     "output_type": "execute_result"
    },
    {
     "data": {
      "image/png": "[encoded data removed]",
      "text/plain": [
       "<Figure size 432x288 with 1 Axes>"
      ]
     },
     "metadata": {
      "needs_background": "light"
     },
     "output_type": "display_data"
    }
   ],
   "source": [
    "#Simulate rolling the dice 10000 times and create a histogram of the results. Which of the following best describes your plot?\n",
    "\n",
    "\n",
    "rolls = (np.random.choice(rolls, size=10000))\n",
    "\n",
    "plt.hist(rolls, bins=30)\n"
   ]
  },
  {
   "cell_type": "code",
   "execution_count": 229,
   "metadata": {},
   "outputs": [
    {
     "name": "stdout",
     "output_type": "stream",
     "text": [
      "4\n"
     ]
    }
   ],
   "source": [
    "#Set the seed value to 17 and simulate rolling the dice. What is the total of the two dice?\n",
    "np.random.seed(17)\n",
    "die1 = np.arange(1,7)\n",
    "die2 = np.arange(1,7)\n",
    "\n",
    "dice_roll = pd.DataFrame({'Red':red,'Blue':blue,'Total':die1+die2})\n",
    "\n",
    "print(np.random.choice(dice_roll.Total))\n",
    "\n"
   ]
  },
  {
   "cell_type": "code",
   "execution_count": 109,
   "metadata": {},
   "outputs": [
    {
     "data": {
      "text/plain": [
       "553"
      ]
     },
     "execution_count": 109,
     "metadata": {},
     "output_type": "execute_result"
    }
   ],
   "source": [
    "#Simulate rolling the dice 5000 times (with the seed set to 101). How many times was the total equal to 5?\n",
    "np.random.seed(101)\n",
    "\n",
    "rolls = (np.random.choice(dice_roll.Total, size=5000))\n",
    "\n",
    "np.count_nonzero(rolls==5)"
   ]
  },
  {
   "cell_type": "code",
   "execution_count": 110,
   "metadata": {},
   "outputs": [
    {
     "data": {
      "text/plain": [
       "269"
      ]
     },
     "execution_count": 110,
     "metadata": {},
     "output_type": "execute_result"
    }
   ],
   "source": [
    "#Simulate rolling the dice 5000 times (with the seed set to 101). How many times was the total equal to 3?\n",
    "\n",
    "np.random.seed(101)\n",
    "\n",
    "rolls = (np.random.choice(dice_roll.Total, size=5000))\n",
    "\n",
    "np.count_nonzero(rolls==3)\n"
   ]
  },
  {
   "cell_type": "code",
   "execution_count": 221,
   "metadata": {},
   "outputs": [
    {
     "data": {
      "text/plain": [
       "array([[0., 0., 0., 0., 0.],\n",
       "       [0., 0., 0., 0., 0.]])"
      ]
     },
     "execution_count": 221,
     "metadata": {},
     "output_type": "execute_result"
    }
   ],
   "source": [
    "#What does the command 'np.zeros([2,5])'?\n",
    "\n",
    "np.zeros([2,5])"
   ]
  },
  {
   "cell_type": "code",
   "execution_count": 305,
   "metadata": {},
   "outputs": [
    {
     "data": {
      "text/plain": [
       "1"
      ]
     },
     "execution_count": 305,
     "metadata": {},
     "output_type": "execute_result"
    }
   ],
   "source": [
    "#If you roll 4 dice at the same time and add up the numbers on each dice, how many ways are there to get 24?\n",
    "four_dice = np.zeros([pow(6,4),5])\n",
    "n = 0\n",
    "for i in range(1,7):\n",
    "    for j in range(1,7):\n",
    "        for k in range(1,7):\n",
    "            for l in range(1,7):\n",
    "                four_dice[n,:] = [i,j,k,l,i+j+k+l]\n",
    "                n +=1\n",
    "                four_dice_df = pd.DataFrame(four_dice,columns=('1','2','3','4','Total'))\n",
    "                \n",
    "np.count_nonzero(four_dice_df==24)"
   ]
  },
  {
   "cell_type": "code",
   "execution_count": 283,
   "metadata": {},
   "outputs": [
    {
     "name": "stdout",
     "output_type": "stream",
     "text": [
      "       Die1  Die2  Die3  Die4  Total\n",
      "0         1     1     1     1      4\n",
      "1         1     2     1     2      6\n",
      "2         1     3     1     3      8\n",
      "3         1     4     1     4     10\n",
      "4         1     5     1     5     12\n",
      "...     ...   ...   ...   ...    ...\n",
      "59995     6     2     6     2     16\n",
      "59996     6     3     6     3     18\n",
      "59997     6     4     6     4     20\n",
      "59998     6     5     6     5     22\n",
      "59999     6     6     6     6     24\n",
      "\n",
      "[60000 rows x 5 columns]\n",
      "\n",
      "10 occurs 6666 times\n",
      "\n",
      "4 occurs 1667 times\n",
      "\n"
     ]
    }
   ],
   "source": [
    "#Simulate rolling 4 dice 10,000 times and examine the distribution of total values.\n",
    "die1 = np.repeat(np.arange(1,7), 10000)\n",
    "die2 = np.tile(np.arange(1,7), 10000)\n",
    "die3 = np.repeat(np.arange(1,7), 10000)\n",
    "die4 = np.tile(np.arange(1,7), 10000)\n",
    "\n",
    "dice_roll = pd.DataFrame({'Die1':die1,'Die2':die2,'Die3':die3,'Die4':die4, 'Total':die1+die2+die3+die4})\n",
    "\n",
    "print(dice_roll)\n",
    "print(\"\\n10 occurs\",np.count_nonzero(dice_roll.Total == 10),\"times\\n\")\n",
    "print(\"4 occurs\", np.count_nonzero(dice_roll.Total == 4),\"times\\n\")\n"
   ]
  },
  {
   "cell_type": "code",
   "execution_count": null,
   "metadata": {},
   "outputs": [],
   "source": []
  },
  {
   "cell_type": "code",
   "execution_count": null,
   "metadata": {},
   "outputs": [],
   "source": []
  }
 ],
 "metadata": {
  "kernelspec": {
   "display_name": "Python 3",
   "language": "python",
   "name": "python3"
  },
  "language_info": {
   "codemirror_mode": {
    "name": "ipython",
    "version": 3
   },
   "file_extension": ".py",
   "mimetype": "text/x-python",
   "name": "python",
   "nbconvert_exporter": "python",
   "pygments_lexer": "ipython3",
   "version": "3.7.4"
  }
 },
 "nbformat": 4,
 "nbformat_minor": 2
}
